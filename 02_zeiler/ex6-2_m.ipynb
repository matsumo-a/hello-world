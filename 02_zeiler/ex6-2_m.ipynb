{
 "cells": [
  {
   "cell_type": "code",
   "execution_count": 3,
   "metadata": {
    "collapsed": true
   },
   "outputs": [],
   "source": [
    "import torch\n",
    "import torch.nn as nn\n",
    "from torch.autograd import Variable\n",
    "from torchvision import models\n",
    "from torchvision import transforms, utils"
   ]
  },
  {
   "cell_type": "code",
   "execution_count": 4,
   "metadata": {
    "collapsed": true
   },
   "outputs": [],
   "source": [
    "import numpy as np\n",
    "import scipy.misc\n",
    "import matplotlib.pyplot as plt\n",
    "%matplotlib inline\n",
    "from PIL import Image\n",
    "import json"
   ]
  },
  {
   "cell_type": "code",
   "execution_count": 5,
   "metadata": {},
   "outputs": [
    {
     "name": "stdout",
     "output_type": "stream",
     "text": [
      "<class 'torch.autograd.variable.VariableMeta'>\n"
     ]
    }
   ],
   "source": [
    "print(type(Variable))"
   ]
  },
  {
   "cell_type": "code",
   "execution_count": 3,
   "metadata": {
    "collapsed": true
   },
   "outputs": [],
   "source": [
    "def to_grayscale(image):\n",
    "    \"\"\"\n",
    "    input is (d,w,h)\n",
    "    converts 3D image tensor to grayscale images corresponding to each channel\n",
    "    \"\"\"\n",
    "    image = torch.sum(image, dim=0)\n",
    "    image = torch.div(image, image.shape[0])\n",
    "    return image\n",
    "\n",
    "def normalize(image):\n",
    "    normalize = transforms.Normalize(\n",
    "        mean=[0.485, 0.456, 0.406],\n",
    "        std=[0.229, 0.224, 0.225]\n",
    "    )\n",
    "    preprocess = transforms.Compose([\n",
    "        transforms.Resize((224,224)),\n",
    "        transforms.ToTensor(),\n",
    "        normalize\n",
    "    ])\n",
    "    image = Variable(preprocess(image).unsqueeze(0).cuda())\n",
    "    return image\n",
    "\n",
    "def predict(image):\n",
    "    _, index = vgg(image).data[0].max(0)\n",
    "    return str(index.item()), labels[str(index.item())][1]\n",
    "    \n",
    "def deprocess(image):\n",
    "    return image * torch.Tensor([0.229, 0.224, 0.225]).cuda()  + torch.Tensor([0.485, 0.456, 0.406]).cuda()\n",
    "\n",
    "def load_image(path):\n",
    "    image = Image.open(path)\n",
    "    plt.imshow(image)\n",
    "    plt.title(\"Image loaded successfully\")\n",
    "    return image"
   ]
  },
  {
   "cell_type": "code",
   "execution_count": 4,
   "metadata": {
    "collapsed": true
   },
   "outputs": [],
   "source": [
    "# proxy\n",
    "import os\n",
    "os.environ[\"http_proxy\"] = \"http://proxy.uec.ac.jp:8080/\"\n",
    "os.environ[\"https_proxy\"] = \"http://proxy.uec.ac.jp:8080/\"\n",
    "vgg = models.vgg16(pretrained=True)"
   ]
  },
  {
   "cell_type": "code",
   "execution_count": 5,
   "metadata": {
    "collapsed": true
   },
   "outputs": [],
   "source": [
    "vgg = vgg.cuda()"
   ]
  },
  {
   "cell_type": "code",
   "execution_count": 6,
   "metadata": {
    "collapsed": true
   },
   "outputs": [],
   "source": [
    "labels = json.load(open('labels/imagenet_class_index.json'))"
   ]
  },
  {
   "cell_type": "code",
   "execution_count": 7,
   "metadata": {
    "collapsed": true
   },
   "outputs": [],
   "source": [
    "modulelist = list(vgg.features.modules())"
   ]
  },
  {
   "cell_type": "markdown",
   "metadata": {},
   "source": [
    "## CNN Heatmaps : Occlusion"
   ]
  },
  {
   "cell_type": "code",
   "execution_count": 8,
   "metadata": {
    "collapsed": true
   },
   "outputs": [],
   "source": [
    "def make_heatmap(image, true_class, k=8, stride=8): \n",
    "    \"\"\"\n",
    "    Input image is of size (1, c, w, h) typically (1, 3, 224, 224) for vgg16\n",
    "    true_class is a number corresponding to imagenet classes\n",
    "    k in the filter size (c, k, k)\n",
    "    \"\"\"\n",
    "    heatmap = torch.zeros(int(((image.shape[2]-k)/stride)+1), int(((image.shape[3]-k)/stride)+1))\n",
    "    image = image.data\n",
    "\n",
    "    i = 0\n",
    "    a = 0\n",
    "    while i<=image.shape[3]-k:\n",
    "        j = 0 \n",
    "        b = 0\n",
    "        while j<=image.shape[2]-k:\n",
    "            h_filter = torch.ones(image.shape)\n",
    "            h_filter[:,:,j:j+k, i:i+k] = 0\n",
    "            temp_image = Variable((image.cuda() * h_filter.cuda()).cuda())\n",
    "            temp_softmax = vgg(temp_image)\n",
    "            temp_softmax = torch.nn.functional.softmax(temp_softmax).data[0]\n",
    "            heatmap[a][b] = temp_softmax[true_class]\n",
    "            j += stride\n",
    "            b += 1\n",
    "        #print(a)\n",
    "        i += stride\n",
    "        a += 1\n",
    "    \n",
    "    image = image.squeeze()\n",
    "    \n",
    "    true_image = image.transpose(0,1)\n",
    "    true_image = true_image.transpose(1,2)\n",
    "    # Un-Normalize image\n",
    "    true_image = true_image * torch.Tensor([0.229, 0.224, 0.225]).cuda()  + torch.Tensor([0.485, 0.456, 0.406]).cuda()\n",
    "    \n",
    "    # Normalize heatmap\n",
    "    heatmap = heatmap - heatmap.min()\n",
    "#     heatmap = heatmap/heatmap.max()\n",
    "    heatmap = np.uint8(255 * heatmap)\n",
    "    \n",
    "    \"\"\"\n",
    "    # Plot both images\n",
    "    fig = plt.figure()\n",
    "    plt.rcParams[\"figure.figsize\"] = (20, 20)\n",
    "    \n",
    "    a = fig.add_subplot(1,2,1)\n",
    "    imgplot = plt.imshow(true_image)\n",
    "    plt.title('Original Image')\n",
    "    plt.axis('off') \n",
    "    \n",
    "    \n",
    "    a = fig.add_subplot(1,2,2)\n",
    "    imgplot = plt.imshow(heatmap)\n",
    "    plt.title('Heatmap')\n",
    "    plt.axis('off') \n",
    "    \"\"\"\n",
    "    \n",
    "    return heatmap\n",
    "                    "
   ]
  },
  {
   "cell_type": "code",
   "execution_count": 9,
   "metadata": {},
   "outputs": [
    {
     "data": {
      "image/png": "[encoded data removed]",
      "text/plain": [
       "<matplotlib.figure.Figure at 0x7f0e1b85e668>"
      ]
     },
     "metadata": {},
     "output_type": "display_data"
    }
   ],
   "source": [
    "my_img = load_image(\"images/goldfish.jpg\")"
   ]
  },
  {
   "cell_type": "code",
   "execution_count": 10,
   "metadata": {
    "collapsed": true
   },
   "outputs": [],
   "source": [
    "my_img = normalize(my_img)"
   ]
  },
  {
   "cell_type": "code",
   "execution_count": 11,
   "metadata": {},
   "outputs": [
    {
     "data": {
      "text/plain": [
       "('1', 'goldfish')"
      ]
     },
     "execution_count": 11,
     "metadata": {},
     "output_type": "execute_result"
    }
   ],
   "source": [
    "predict(my_img)"
   ]
  },
  {
   "cell_type": "code",
   "execution_count": 12,
   "metadata": {},
   "outputs": [
    {
     "name": "stderr",
     "output_type": "stream",
     "text": [
      "/usr/local/anaconda3/lib/python3.6/site-packages/ipykernel_launcher.py:20: UserWarning: Implicit dimension choice for softmax has been deprecated. Change the call to include dim=X as an argument.\n"
     ]
    }
   ],
   "source": [
    "goldfish_heatmap = make_heatmap(my_img, 1, 16, 8)  # Extremely slow"
   ]
  },
  {
   "cell_type": "code",
   "execution_count": 13,
   "metadata": {},
   "outputs": [
    {
     "data": {
      "text/plain": [
       "<matplotlib.axes._subplots.AxesSubplot at 0x7f0e63579be0>"
      ]
     },
     "execution_count": 13,
     "metadata": {},
     "output_type": "execute_result"
    },
    {
     "data": {
      "image/png": "[encoded data removed]",
      "text/plain": [
       "<matplotlib.figure.Figure at 0x7f0e1b769940>"
      ]
     },
     "metadata": {},
     "output_type": "display_data"
    }
   ],
   "source": [
    "import seaborn as sns\n",
    "# sns.heatmap(goldfish_heatmap, cmap='jet', square=True, cbar=False)\n",
    "sns.heatmap(goldfish_heatmap, cmap='jet')"
   ]
  },
  {
   "cell_type": "code",
   "execution_count": 14,
   "metadata": {},
   "outputs": [
    {
     "name": "stdout",
     "output_type": "stream",
     "text": [
      "tensor([[ 6.1994e-08,  8.5762e-01,  1.4273e-07,  1.4334e-08,  1.2277e-08,\n",
      "          2.5112e-07,  7.7493e-08,  1.8336e-05,  2.4575e-06,  4.6798e-09,\n",
      "          9.9760e-08,  4.0418e-07,  1.3622e-06,  3.6534e-07,  3.0389e-08,\n",
      "          1.0112e-05,  7.4180e-07,  4.3840e-08,  8.1494e-08,  6.2130e-07,\n",
      "          2.9584e-09,  5.6043e-08,  1.5701e-07,  5.7116e-08,  2.0895e-09,\n",
      "          9.2931e-08,  4.3137e-08,  2.9224e-06,  1.5913e-07,  7.6108e-07,\n",
      "          2.3575e-07,  1.0566e-06,  2.0337e-07,  1.6528e-08,  1.5986e-08,\n",
      "          4.4857e-07,  3.9062e-07,  6.1681e-07,  2.3007e-08,  2.0067e-09,\n",
      "          2.6348e-07,  2.5213e-09,  1.3447e-08,  3.8275e-07,  5.8947e-09,\n",
      "          2.3939e-08,  1.1160e-07,  5.4231e-09,  4.4419e-09,  7.6836e-09,\n",
      "          1.6835e-08,  2.5543e-07,  5.2067e-08,  4.5252e-08,  3.4415e-08,\n",
      "          4.9726e-09,  1.4990e-07,  1.5022e-09,  1.1036e-06,  1.0242e-07,\n",
      "          1.3574e-07,  1.0929e-09,  1.8134e-09,  2.2149e-08,  7.1260e-09,\n",
      "          9.7673e-10,  6.7047e-08,  5.7897e-09,  2.1572e-09,  4.6863e-08,\n",
      "          8.0191e-06,  1.8955e-06,  1.2060e-08,  2.0173e-06,  4.4493e-06,\n",
      "          2.9519e-06,  2.2544e-08,  1.9549e-07,  7.8948e-06,  5.4465e-06,\n",
      "          3.1953e-07,  7.3458e-08,  4.3969e-07,  1.0988e-07,  3.7807e-09,\n",
      "          4.1105e-07,  5.3263e-07,  2.1127e-07,  5.2691e-06,  2.3768e-07,\n",
      "          2.3113e-05,  4.9190e-08,  6.7703e-07,  5.1808e-07,  9.4037e-05,\n",
      "          3.6432e-07,  2.7548e-06,  5.9207e-07,  1.8820e-08,  5.1963e-08,\n",
      "          2.9276e-08,  2.4781e-10,  8.1839e-09,  1.3341e-08,  1.0730e-08,\n",
      "          3.5260e-10,  2.2120e-08,  7.0595e-06,  1.1141e-06,  1.7684e-09,\n",
      "          1.3404e-08,  1.1600e-08,  4.1571e-06,  1.2629e-05,  1.4002e-06,\n",
      "          2.1316e-05,  1.0655e-06,  2.7842e-04,  1.8288e-06,  1.7325e-07,\n",
      "          4.4240e-06,  1.2139e-07,  1.6369e-05,  2.7680e-07,  3.6313e-04,\n",
      "          1.2381e-06,  1.3543e-06,  3.2875e-09,  6.6350e-10,  2.7535e-08,\n",
      "          3.7181e-06,  5.8767e-09,  1.8500e-08,  1.4496e-08,  3.2432e-08,\n",
      "          1.7780e-08,  9.3756e-08,  5.2713e-08,  9.0253e-09,  3.1062e-07,\n",
      "          4.7420e-09,  1.0627e-08,  1.6951e-09,  1.3220e-08,  1.0186e-08,\n",
      "          1.2602e-08,  1.4106e-09,  1.5903e-10,  1.4574e-08,  9.8791e-10,\n",
      "          1.1496e-08,  3.5987e-07,  5.8618e-08,  2.7132e-07,  1.8941e-06,\n",
      "          3.1599e-07,  1.6335e-07,  1.7648e-06,  1.3914e-06,  9.9202e-09,\n",
      "          6.0658e-10,  1.2242e-07,  3.1902e-08,  3.0168e-08,  1.8081e-10,\n",
      "          6.3903e-09,  1.3282e-09,  4.0301e-09,  1.6442e-08,  5.3252e-10,\n",
      "          1.0528e-09,  5.0871e-08,  5.3994e-09,  7.3550e-09,  2.0464e-09,\n",
      "          5.6358e-09,  2.1189e-09,  7.2535e-10,  6.0731e-09,  2.2304e-09,\n",
      "          1.8510e-09,  1.8487e-10,  8.0267e-08,  5.7705e-09,  4.1817e-08,\n",
      "          6.9816e-07,  4.8714e-07,  6.5359e-06,  6.6529e-09,  3.1861e-08,\n",
      "          3.5742e-09,  5.0749e-07,  6.2487e-08,  1.1403e-06,  3.4033e-09,\n",
      "          2.0837e-07,  6.5330e-08,  6.4269e-09,  3.1046e-08,  1.2745e-07,\n",
      "          4.6728e-08,  5.4422e-07,  3.0422e-09,  1.3958e-08,  8.1611e-08,\n",
      "          1.3897e-07,  6.0499e-09,  5.3503e-08,  4.8075e-08,  3.6629e-09,\n",
      "          1.1255e-10,  1.6058e-08,  1.7239e-08,  3.3954e-08,  1.0983e-07,\n",
      "          1.8569e-08,  4.5029e-09,  2.2353e-09,  2.3733e-08,  3.3820e-09,\n",
      "          9.2493e-08,  4.8995e-10,  1.3459e-09,  8.8826e-07,  1.7553e-07,\n",
      "          9.8018e-09,  4.6128e-10,  1.4879e-08,  1.5120e-10,  1.4990e-09,\n",
      "          2.1807e-07,  4.0311e-08,  2.8316e-08,  5.5826e-10,  1.6852e-08,\n",
      "          2.0944e-09,  3.1407e-08,  4.7412e-06,  5.3455e-09,  7.7395e-08,\n",
      "          3.3219e-08,  2.0894e-08,  8.7194e-09,  2.9089e-09,  6.0375e-09,\n",
      "          7.6843e-08,  1.1491e-09,  3.5531e-09,  4.6820e-09,  2.1085e-09,\n",
      "          8.4573e-09,  5.4825e-09,  8.0849e-08,  2.9783e-07,  1.2495e-07,\n",
      "          9.6810e-10,  2.9350e-09,  2.3384e-09,  1.5155e-08,  3.4536e-06,\n",
      "          6.9638e-08,  1.5391e-08,  8.5059e-08,  2.0475e-06,  4.2849e-08,\n",
      "          5.3972e-08,  5.7489e-09,  1.6911e-09,  4.2976e-10,  2.7443e-10,\n",
      "          1.0876e-09,  8.4013e-09,  4.1150e-09,  2.3643e-08,  1.2061e-08,\n",
      "          2.7000e-09,  2.0720e-08,  7.9244e-08,  9.5771e-09,  1.0140e-08,\n",
      "          1.3749e-08,  4.8673e-07,  8.3704e-07,  1.2242e-06,  1.1053e-07,\n",
      "          6.6011e-07,  1.1237e-09,  3.3902e-10,  1.2289e-09,  3.1859e-10,\n",
      "          4.2143e-10,  5.5978e-09,  1.4591e-08,  1.0120e-10,  1.8566e-09,\n",
      "          3.0262e-09,  1.1173e-08,  4.3659e-09,  3.7516e-08,  7.1030e-08,\n",
      "          7.9679e-09,  2.6812e-04,  4.1889e-08,  5.7574e-08,  3.7546e-05,\n",
      "          1.8464e-08,  7.9093e-07,  7.8866e-07,  1.7537e-06,  1.2721e-04,\n",
      "          5.6179e-05,  1.1114e-07,  2.7154e-06,  3.1695e-07,  8.5385e-05,\n",
      "          7.4210e-07,  6.0475e-06,  1.2173e-06,  2.6185e-07,  4.8931e-07,\n",
      "          2.9450e-08,  1.1668e-05,  2.7364e-07,  8.7663e-08,  2.1260e-06,\n",
      "          1.0743e-05,  2.4475e-07,  5.8301e-07,  2.4150e-06,  1.2016e-07,\n",
      "          6.8825e-08,  5.6115e-08,  2.5839e-08,  3.6064e-06,  4.4028e-08,\n",
      "          1.5408e-08,  3.4161e-08,  1.0222e-08,  2.3080e-05,  3.0038e-09,\n",
      "          2.7401e-09,  3.7355e-07,  2.5933e-08,  2.8958e-09,  3.4146e-09,\n",
      "          3.6677e-09,  2.9301e-09,  7.3481e-09,  5.4636e-11,  3.0276e-10,\n",
      "          8.8456e-10,  1.3896e-09,  4.5973e-09,  2.7969e-09,  4.2177e-09,\n",
      "          6.8449e-10,  6.4765e-08,  9.3333e-09,  2.6073e-07,  4.3352e-08,\n",
      "          7.9279e-09,  2.3391e-07,  6.3078e-08,  7.0228e-09,  4.4786e-09,\n",
      "          1.0436e-08,  8.0813e-10,  7.1909e-09,  8.8459e-11,  3.8569e-09,\n",
      "          1.1550e-08,  1.7207e-08,  2.9352e-09,  3.2911e-09,  1.6134e-08,\n",
      "          1.6489e-08,  1.0394e-09,  3.7395e-07,  6.0827e-09,  1.2996e-08,\n",
      "          1.6551e-07,  1.2095e-08,  7.7618e-08,  9.6871e-10,  1.8963e-08,\n",
      "          4.7395e-10,  9.9639e-10,  3.3829e-08,  4.7421e-09,  1.1405e-08,\n",
      "          1.1912e-08,  4.2593e-09,  3.6267e-07,  3.5386e-07,  5.3172e-09,\n",
      "          2.7426e-09,  4.9466e-07,  3.3188e-08,  2.4139e-07,  5.9970e-07,\n",
      "          3.1502e-07,  1.5209e-08,  1.0486e-07,  5.0669e-09,  6.5105e-08,\n",
      "          5.4059e-06,  2.9917e-05,  5.9690e-07,  1.6713e-09,  2.8790e-08,\n",
      "          3.9022e-08,  1.2902e-06,  8.3137e-05,  1.2997e-09,  3.0399e-07,\n",
      "          1.9225e-05,  1.8383e-09,  3.6723e-04,  3.6927e-07,  1.3833e-06,\n",
      "          5.1722e-09,  5.0590e-08,  7.8377e-07,  1.5233e-08,  5.5752e-09,\n",
      "          4.4534e-08,  2.0801e-08,  1.1548e-06,  4.2182e-07,  4.4805e-07,\n",
      "          6.0544e-08,  2.1976e-08,  6.3958e-10,  7.7013e-07,  1.1634e-07,\n",
      "          2.4535e-04,  8.0911e-08,  4.0455e-07,  9.4849e-05,  5.0101e-07,\n",
      "          1.9144e-06,  3.7515e-05,  3.2406e-08,  5.4739e-07,  1.4010e-10,\n",
      "          1.5650e-07,  1.0627e-06,  7.1255e-07,  2.2330e-05,  7.7167e-09,\n",
      "          5.1235e-07,  3.1133e-07,  2.0736e-06,  3.4137e-07,  1.6932e-08,\n",
      "          8.7962e-07,  3.9312e-08,  1.0780e-06,  1.3296e-08,  2.5818e-07,\n",
      "          6.2486e-09,  4.7590e-07,  1.6416e-06,  7.7098e-05,  5.7044e-08,\n",
      "          9.1548e-09,  7.7149e-05,  7.5652e-07,  4.3456e-07,  3.9982e-06,\n",
      "          3.1272e-02,  7.4003e-09,  3.6037e-09,  1.1544e-06,  3.5610e-09,\n",
      "          3.1217e-06,  3.7676e-06,  3.3670e-09,  2.0984e-06,  3.5166e-06,\n",
      "          9.2042e-08,  5.7098e-07,  3.3280e-08,  2.1292e-08,  2.5904e-09,\n",
      "          1.0349e-06,  3.0511e-07,  1.2887e-06,  7.9783e-08,  1.8609e-07,\n",
      "          9.0968e-09,  7.8989e-08,  5.6692e-06,  1.3908e-06,  2.8805e-07,\n",
      "          4.8645e-07,  3.3655e-06,  1.3877e-06,  4.8338e-09,  1.4169e-05,\n",
      "          1.0502e-08,  7.5727e-07,  8.7636e-07,  2.0712e-05,  2.1731e-04,\n",
      "          3.1980e-04,  3.9658e-07,  1.1877e-07,  1.7364e-07,  7.5521e-06,\n",
      "          1.7375e-08,  6.0018e-07,  2.4947e-06,  1.1939e-07,  2.9705e-07,\n",
      "          9.9003e-07,  2.1140e-06,  1.8954e-09,  7.1536e-04,  1.7150e-08,\n",
      "          6.6137e-08,  8.7898e-05,  1.8770e-06,  7.3509e-09,  2.8099e-08,\n",
      "          3.1452e-09,  9.3651e-08,  1.3849e-07,  8.1097e-07,  1.0034e-07,\n",
      "          2.6751e-06,  1.8441e-08,  1.2408e-05,  3.7710e-08,  6.5163e-08,\n",
      "          1.5846e-07,  6.7169e-09,  2.6921e-09,  1.0154e-06,  1.4298e-07,\n",
      "          2.4909e-09,  6.7596e-08,  2.5081e-07,  1.5264e-06,  2.2528e-05,\n",
      "          2.7359e-06,  1.0303e-06,  8.9953e-09,  1.8452e-08,  3.2309e-06,\n",
      "          1.8792e-06,  4.8826e-06,  3.3436e-05,  2.3386e-08,  3.4604e-08,\n",
      "          2.8959e-08,  8.4101e-06,  2.6820e-06,  4.4606e-08,  1.5624e-08,\n",
      "          3.0627e-07,  2.7286e-08,  1.2921e-07,  1.4030e-07,  1.9510e-07,\n",
      "          8.3575e-10,  1.7816e-07,  1.0445e-06,  3.5731e-09,  1.1142e-08,\n",
      "          4.6928e-07,  1.0086e-08,  9.3015e-03,  2.4379e-07,  3.2485e-07,\n",
      "          6.2808e-08,  1.5728e-08,  1.4382e-07,  4.9778e-06,  1.8210e-07,\n",
      "          5.9347e-06,  3.9487e-06,  2.0856e-07,  6.5453e-08,  2.3118e-06,\n",
      "          1.0477e-06,  1.2732e-09,  2.1885e-07,  4.9955e-05,  6.5326e-07,\n",
      "          3.9801e-08,  2.1809e-06,  2.9571e-07,  2.0062e-08,  2.5277e-08,\n",
      "          1.9528e-09,  4.0186e-08,  1.4360e-09,  3.0844e-07,  7.5596e-07,\n",
      "          3.0474e-06,  5.4426e-07,  1.7094e-08,  3.5255e-10,  6.9377e-05,\n",
      "          1.6239e-06,  3.9683e-06,  9.0562e-03,  2.6794e-09,  7.7434e-09,\n",
      "          1.0639e-06,  9.2874e-07,  3.3178e-09,  2.7243e-06,  1.7465e-05,\n",
      "          1.4619e-07,  8.3817e-08,  3.6030e-06,  1.8205e-04,  5.2030e-04,\n",
      "          1.5883e-06,  1.9850e-07,  7.3999e-07,  7.2542e-07,  8.3304e-08,\n",
      "          1.1776e-07,  5.9629e-06,  7.5779e-07,  2.2131e-08,  1.4964e-06,\n",
      "          7.5615e-09,  9.9351e-05,  4.2867e-07,  2.1763e-06,  4.9536e-10,\n",
      "          8.6426e-08,  1.8220e-07,  3.1336e-07,  2.9408e-07,  3.7750e-08,\n",
      "          9.3824e-09,  3.9500e-05,  3.0226e-09,  8.3773e-04,  3.3137e-05,\n",
      "          7.0875e-07,  1.2189e-08,  7.9337e-06,  2.4378e-08,  1.8067e-09,\n",
      "          9.9308e-07,  6.2215e-07,  3.5916e-08,  5.3600e-07,  1.8262e-07,\n",
      "          1.2613e-07,  7.5273e-07,  1.3892e-07,  2.2812e-07,  1.9551e-04,\n",
      "          3.2628e-07,  6.5048e-09,  4.5018e-08,  1.5463e-08,  5.0271e-06,\n",
      "          1.1529e-06,  8.2481e-06,  1.0077e-05,  1.3394e-08,  6.6119e-06,\n",
      "          1.9641e-06,  5.9754e-10,  2.6367e-06,  5.0839e-04,  6.9731e-06,\n",
      "          4.2242e-09,  2.0131e-08,  3.4055e-06,  6.8528e-08,  7.2463e-06,\n",
      "          9.6545e-06,  9.6403e-07,  2.8408e-08,  3.2235e-08,  3.8598e-06,\n",
      "          2.2596e-09,  2.3870e-07,  1.0675e-07,  3.1335e-09,  1.9750e-07,\n",
      "          1.8902e-09,  1.4424e-06,  1.7356e-05,  1.3654e-07,  8.8237e-09,\n",
      "          1.0360e-07,  1.1549e-04,  2.3716e-07,  1.1326e-08,  9.6085e-09,\n",
      "          3.2675e-05,  1.9457e-05,  1.5664e-09,  3.8821e-10,  2.3828e-06,\n",
      "          1.1591e-08,  1.6749e-08,  1.8970e-08,  7.8245e-08,  5.7520e-07,\n",
      "          1.0562e-02,  2.9890e-03,  2.9226e-05,  6.7506e-07,  1.7054e-06,\n",
      "          8.6869e-07,  8.7206e-06,  4.7171e-09,  9.9214e-09,  1.5332e-02,\n",
      "          3.1594e-05,  6.5024e-06,  3.7464e-06,  6.9835e-05,  6.8889e-09,\n",
      "          1.9222e-03,  7.1059e-09,  4.7996e-07,  1.5366e-04,  2.9841e-07,\n",
      "          3.3344e-08,  2.5734e-05,  4.6752e-08,  1.8077e-07,  3.2817e-09,\n",
      "          2.9191e-06,  3.1974e-07,  8.6465e-06,  2.7328e-04,  5.4591e-08,\n",
      "          7.2971e-07,  8.4365e-09,  4.1426e-05,  3.2347e-08,  7.4065e-08,\n",
      "          8.1557e-07,  7.0021e-07,  1.1666e-06,  1.2252e-07,  2.1292e-04,\n",
      "          1.0576e-06,  1.9281e-07,  6.1489e-10,  5.5944e-08,  2.8541e-08,\n",
      "          1.2692e-08,  3.3059e-05,  8.5316e-08,  2.2033e-07,  1.4554e-08,\n",
      "          6.1564e-07,  2.7830e-07,  2.5084e-05,  1.5773e-08,  2.0924e-09,\n",
      "          2.5510e-07,  4.5421e-07,  7.9748e-06,  1.5538e-07,  4.4557e-07,\n",
      "          1.3349e-08,  1.7893e-07,  3.8308e-07,  1.8892e-03,  1.2762e-06,\n",
      "          3.3066e-06,  8.7300e-08,  6.6757e-09,  3.9731e-07,  4.8699e-08,\n",
      "          3.2743e-09,  6.9051e-10,  7.2613e-06,  1.8232e-06,  1.5624e-06,\n",
      "          3.1252e-06,  4.6846e-07,  2.1742e-06,  2.2664e-07,  7.8640e-07,\n",
      "          2.1237e-07,  4.3937e-09,  1.6577e-07,  3.9128e-07,  6.4839e-06,\n",
      "          1.4482e-08,  4.2172e-07,  3.3612e-07,  2.1556e-10,  8.5472e-07,\n",
      "          2.7570e-08,  4.0639e-09,  3.6840e-07,  4.4362e-08,  3.5827e-03,\n",
      "          4.0960e-06,  1.2043e-08,  5.9171e-07,  2.1905e-06,  1.9197e-04,\n",
      "          1.2193e-09,  2.6978e-06,  3.0642e-09,  3.1583e-06,  1.4088e-07,\n",
      "          5.6759e-07,  9.8558e-07,  3.5243e-05,  2.1576e-04,  3.6337e-07,\n",
      "          3.7435e-10,  2.7062e-10,  6.6356e-08,  6.6234e-08,  1.3773e-06,\n",
      "          5.1838e-09,  3.1267e-07,  3.4535e-05,  1.1751e-06,  7.0246e-08,\n",
      "          4.5958e-08,  5.8463e-07,  8.3053e-07,  4.6884e-09,  2.4703e-07,\n",
      "          2.0662e-08,  1.0001e-06,  5.8066e-07,  7.5696e-06,  7.9038e-10,\n",
      "          3.9538e-07,  1.7071e-07,  1.1892e-08,  2.7577e-07,  5.9814e-06,\n",
      "          9.8599e-06,  5.5480e-04,  6.5429e-09,  2.8512e-07,  1.1920e-03,\n",
      "          5.5078e-06,  1.8275e-06,  6.4217e-08,  6.5016e-10,  1.5178e-07,\n",
      "          2.7743e-07,  2.2344e-09,  1.8739e-08,  1.5153e-08,  1.4960e-04,\n",
      "          1.2929e-08,  6.5331e-04,  1.5857e-04,  2.4015e-08,  1.3355e-07,\n",
      "          9.3509e-06,  2.4594e-08,  1.2187e-08,  5.0543e-04,  2.1748e-08,\n",
      "          8.4120e-08,  2.9365e-08,  3.3605e-09,  1.8243e-09,  1.8957e-08,\n",
      "          1.1152e-07,  1.3544e-04,  4.7089e-09,  4.6643e-10,  3.6118e-05,\n",
      "          8.6027e-08,  7.5699e-10,  6.6100e-07,  1.3223e-02,  3.7769e-07,\n",
      "          2.8407e-08,  5.3049e-07,  1.6526e-07,  2.3005e-09,  2.0674e-07,\n",
      "          2.3359e-08,  6.3581e-06,  1.3480e-06,  1.4407e-08,  3.0193e-08,\n",
      "          9.9832e-07,  1.1304e-03,  7.7401e-06,  2.9671e-06,  1.4527e-03,\n",
      "          9.9394e-08,  6.9079e-05,  1.7816e-05,  3.9774e-05,  1.5934e-06,\n",
      "          7.0602e-07,  1.6927e-06,  1.2284e-04,  1.6087e-07,  6.4244e-06,\n",
      "          9.8917e-06,  5.7072e-07,  4.6533e-08,  3.8145e-08,  1.2972e-07,\n",
      "          1.0737e-08,  1.3628e-07,  1.3717e-06,  8.7883e-08,  4.5679e-09,\n",
      "          8.8934e-07,  1.3551e-07,  2.7645e-06,  3.6330e-03,  3.6014e-05,\n",
      "          1.5283e-03,  2.8625e-05,  7.3819e-04,  2.2734e-04,  3.0456e-06,\n",
      "          3.9934e-06,  2.8097e-04,  2.1169e-05,  1.0879e-05,  8.8946e-06,\n",
      "          3.7214e-07,  1.4888e-06,  1.8920e-07,  6.2044e-07,  1.9186e-07,\n",
      "          1.4312e-05,  2.4631e-05,  1.0454e-04,  3.4316e-06,  2.5859e-07,\n",
      "          6.2950e-05,  3.2929e-07,  1.8227e-06,  4.5859e-06,  4.3219e-04,\n",
      "          5.9839e-04,  7.3917e-06,  1.2139e-05,  5.0458e-04,  1.1473e-07,\n",
      "          3.7141e-08,  2.3113e-07,  6.2343e-05,  1.8744e-07,  1.6993e-06,\n",
      "          4.9135e-04,  5.0755e-08,  3.6158e-06,  1.8327e-05,  1.5729e-06,\n",
      "          1.6629e-06,  1.6236e-02,  5.2154e-05,  1.5648e-03,  4.6215e-05,\n",
      "          3.5128e-07,  1.3623e-03,  2.0515e-09,  8.7154e-08,  6.6916e-09,\n",
      "          3.6928e-08,  4.5469e-08,  2.8064e-07,  2.3599e-07,  6.6671e-09,\n",
      "          3.5104e-07,  2.5977e-07,  2.1475e-05,  1.0114e-07,  1.1314e-08,\n",
      "          9.1006e-05,  1.5791e-07,  8.2286e-06,  1.0077e-06,  2.7800e-05,\n",
      "          1.7555e-06,  4.9989e-09,  8.1204e-06,  1.1146e-09,  7.0919e-07,\n",
      "          6.5767e-07,  1.1637e-07,  3.5817e-08,  5.2835e-06,  5.0322e-05]], device='cuda:0')\n"
     ]
    },
    {
     "name": "stderr",
     "output_type": "stream",
     "text": [
      "/usr/local/anaconda3/lib/python3.6/site-packages/ipykernel_launcher.py:3: UserWarning: Implicit dimension choice for softmax has been deprecated. Change the call to include dim=X as an argument.\n",
      "  This is separate from the ipykernel package so we can avoid doing imports until\n"
     ]
    }
   ],
   "source": [
    "a = vgg(my_img)\n",
    "# print(a)\n",
    "temp_softmax = torch.nn.functional.softmax(a)\n",
    "print(temp_softmax)"
   ]
  }
 ],
 "metadata": {
  "kernelspec": {
   "display_name": "Python 3 (Anaconda)",
   "language": "python",
   "name": "python3_anaconda"
  },
  "language_info": {
   "codemirror_mode": {
    "name": "ipython",
    "version": 3
   },
   "file_extension": ".py",
   "mimetype": "text/x-python",
   "name": "python",
   "nbconvert_exporter": "python",
   "pygments_lexer": "ipython3",
   "version": "3.6.3"
  }
 },
 "nbformat": 4,
 "nbformat_minor": 2
}
